{
  "nbformat": 4,
  "nbformat_minor": 0,
  "metadata": {
    "colab": {
      "name": "BonoIndependiente-COVID19.ipynb",
      "provenance": [],
      "collapsed_sections": [
        "aLjkoe2MIjCG"
      ]
    },
    "kernelspec": {
      "name": "python3",
      "display_name": "Python 3"
    },
    "accelerator": "GPU"
  },
  "cells": [
    {
      "cell_type": "markdown",
      "metadata": {
        "id": "lhRkpzo1UHm3"
      },
      "source": [
        "<h1 align=\"center\"><strong>Predicción del estado de cobro del Bono Independiente en la emergencia del COVID19</strong></h1>\r\n",
        "\r\n",
        "\r\n",
        "\r\n",
        "---\r\n",
        "\r\n",
        "\r\n",
        " - Dataset original:  [Bono Independiente](https://www.datosabiertos.gob.pe/dataset/bono-independiente-ministerio-de-trabajo-y-promocion-del-empleo-mtpe)  [Ministerio de Trabajo y Promocion del Empleo - MTPE].\r\n",
        " - Autor: [Renzo Alexis Guerrero Huayta](https://github.com/renzoguerrero17)\r\n",
        "\r\n",
        "\r\n",
        "\r\n",
        "\r\n"
      ]
    },
    {
      "cell_type": "markdown",
      "metadata": {
        "id": "aLjkoe2MIjCG"
      },
      "source": [
        "# **Conectando Colab con Drive**"
      ]
    },
    {
      "cell_type": "code",
      "metadata": {
        "colab": {
          "base_uri": "https://localhost:8080/"
        },
        "id": "m_1ROOhtIe00",
        "outputId": "837191ce-c0ff-4288-c407-28c6eeb7884a"
      },
      "source": [
        "from google.colab import drive\r\n",
        "drive.mount('/content/drive')"
      ],
      "execution_count": 1,
      "outputs": [
        {
          "output_type": "stream",
          "text": [
            "Mounted at /content/drive\n"
          ],
          "name": "stdout"
        }
      ]
    },
    {
      "cell_type": "code",
      "metadata": {
        "id": "gB1lGrLUJVUZ"
      },
      "source": [
        "import os\r\n",
        "os.chdir(\"/content/drive/MyDrive/Electivos/IAA/Evaluaciones/PC2/Clasificacion\")"
      ],
      "execution_count": 2,
      "outputs": []
    },
    {
      "cell_type": "markdown",
      "metadata": {
        "id": "JlORfQ5wJztH"
      },
      "source": [
        "# **1.Análisis exploratorio de datos**"
      ]
    },
    {
      "cell_type": "code",
      "metadata": {
        "id": "v3Hp7ZWcJXIH"
      },
      "source": [
        "import pandas as pd\r\n",
        "import numpy as np\r\n",
        "import matplotlib.pyplot as plt\r\n",
        "import seaborn as sns"
      ],
      "execution_count": 16,
      "outputs": []
    },
    {
      "cell_type": "code",
      "metadata": {
        "colab": {
          "base_uri": "https://localhost:8080/"
        },
        "id": "ggB82CvRKdb7",
        "outputId": "bd9ff0ee-9b41-4e4c-f553-d8e75c12beff"
      },
      "source": [
        "!ls"
      ],
      "execution_count": null,
      "outputs": [
        {
          "output_type": "stream",
          "text": [
            "BonoIndependiente-COVID19.ipynb  bono_Independiente_trabajaperu.csv\n"
          ],
          "name": "stdout"
        }
      ]
    },
    {
      "cell_type": "code",
      "metadata": {
        "id": "Sidn0sfDJ_jp"
      },
      "source": [
        "df = pd.read_csv(\"bono_Independiente_trabajaperu.csv\", sep = \",\", engine='python')"
      ],
      "execution_count": null,
      "outputs": []
    },
    {
      "cell_type": "code",
      "metadata": {
        "colab": {
          "base_uri": "https://localhost:8080/",
          "height": 309
        },
        "id": "IbL1bfiiKj8Z",
        "outputId": "e16c3aed-03b2-47ad-9eaa-a621c6e680b8"
      },
      "source": [
        "# Visualizacion global de los datos\r\n",
        "df.head()"
      ],
      "execution_count": null,
      "outputs": [
        {
          "output_type": "execute_result",
          "data": {
            "text/html": [
              "<div>\n",
              "<style scoped>\n",
              "    .dataframe tbody tr th:only-of-type {\n",
              "        vertical-align: middle;\n",
              "    }\n",
              "\n",
              "    .dataframe tbody tr th {\n",
              "        vertical-align: top;\n",
              "    }\n",
              "\n",
              "    .dataframe thead th {\n",
              "        text-align: right;\n",
              "    }\n",
              "</style>\n",
              "<table border=\"1\" class=\"dataframe\">\n",
              "  <thead>\n",
              "    <tr style=\"text-align: right;\">\n",
              "      <th></th>\n",
              "      <th>COD_HOGAR</th>\n",
              "      <th>UBIGEO</th>\n",
              "      <th>DE_DEPARTAMENTO</th>\n",
              "      <th>DE_PROVINCIA</th>\n",
              "      <th>DE_DISTRITO</th>\n",
              "      <th>PERSONAS_HOGAR</th>\n",
              "      <th>MONTO</th>\n",
              "      <th>TIPO_BONO</th>\n",
              "      <th>BONO_COBRADO</th>\n",
              "      <th>FECHA_COBRO</th>\n",
              "      <th>ENTIDAD_COBRO</th>\n",
              "      <th>MEDIO_COBRO</th>\n",
              "      <th>FECHA_ACTUALIZACION</th>\n",
              "    </tr>\n",
              "  </thead>\n",
              "  <tbody>\n",
              "    <tr>\n",
              "      <th>0</th>\n",
              "      <td>43</td>\n",
              "      <td>10205</td>\n",
              "      <td>AMAZONAS</td>\n",
              "      <td>BAGUA</td>\n",
              "      <td>IMAZA</td>\n",
              "      <td>2</td>\n",
              "      <td>760.0</td>\n",
              "      <td>BONO_INDEPENDIENTE</td>\n",
              "      <td>SI</td>\n",
              "      <td>2020-04-27T00:00:00Z</td>\n",
              "      <td>BANCO DE LA NACION</td>\n",
              "      <td>ABONO EN CUENTA</td>\n",
              "      <td>2020-06-20T00:00:00Z</td>\n",
              "    </tr>\n",
              "    <tr>\n",
              "      <th>1</th>\n",
              "      <td>76</td>\n",
              "      <td>10310</td>\n",
              "      <td>AMAZONAS</td>\n",
              "      <td>BONGARA</td>\n",
              "      <td>SHIPASBAMBA</td>\n",
              "      <td>1</td>\n",
              "      <td>760.0</td>\n",
              "      <td>BONO_INDEPENDIENTE</td>\n",
              "      <td>SI</td>\n",
              "      <td>2020-04-27T00:00:00Z</td>\n",
              "      <td>BANCO DE LA NACION</td>\n",
              "      <td>ABONO EN CUENTA</td>\n",
              "      <td>2020-06-20T00:00:00Z</td>\n",
              "    </tr>\n",
              "    <tr>\n",
              "      <th>2</th>\n",
              "      <td>166</td>\n",
              "      <td>60801</td>\n",
              "      <td>CAJAMARCA</td>\n",
              "      <td>JAEN</td>\n",
              "      <td>JAEN</td>\n",
              "      <td>1</td>\n",
              "      <td>760.0</td>\n",
              "      <td>BONO_INDEPENDIENTE</td>\n",
              "      <td>SI</td>\n",
              "      <td>2020-04-27T00:00:00Z</td>\n",
              "      <td>BANCO DE LA NACION</td>\n",
              "      <td>ABONO EN CUENTA</td>\n",
              "      <td>2020-06-20T00:00:00Z</td>\n",
              "    </tr>\n",
              "    <tr>\n",
              "      <th>3</th>\n",
              "      <td>174</td>\n",
              "      <td>10502</td>\n",
              "      <td>AMAZONAS</td>\n",
              "      <td>LUYA</td>\n",
              "      <td>CAMPORREDONDO</td>\n",
              "      <td>2</td>\n",
              "      <td>760.0</td>\n",
              "      <td>BONO_INDEPENDIENTE</td>\n",
              "      <td>SI</td>\n",
              "      <td>2020-04-29T00:00:00Z</td>\n",
              "      <td>BANCO DE LA NACION</td>\n",
              "      <td>BANCA CELULAR</td>\n",
              "      <td>2020-06-20T00:00:00Z</td>\n",
              "    </tr>\n",
              "    <tr>\n",
              "      <th>4</th>\n",
              "      <td>337</td>\n",
              "      <td>20301</td>\n",
              "      <td>ANCASH</td>\n",
              "      <td>ANTONIO RAYMONDI</td>\n",
              "      <td>LLAMELLIN</td>\n",
              "      <td>1</td>\n",
              "      <td>760.0</td>\n",
              "      <td>BONO_INDEPENDIENTE</td>\n",
              "      <td>NO</td>\n",
              "      <td>NaN</td>\n",
              "      <td>BANCO DE LA NACION</td>\n",
              "      <td>VENTANILLA</td>\n",
              "      <td>2020-06-20T00:00:00Z</td>\n",
              "    </tr>\n",
              "  </tbody>\n",
              "</table>\n",
              "</div>"
            ],
            "text/plain": [
              "   COD_HOGAR  UBIGEO  ...      MEDIO_COBRO   FECHA_ACTUALIZACION\n",
              "0         43   10205  ...  ABONO EN CUENTA  2020-06-20T00:00:00Z\n",
              "1         76   10310  ...  ABONO EN CUENTA  2020-06-20T00:00:00Z\n",
              "2        166   60801  ...  ABONO EN CUENTA  2020-06-20T00:00:00Z\n",
              "3        174   10502  ...    BANCA CELULAR  2020-06-20T00:00:00Z\n",
              "4        337   20301  ...       VENTANILLA  2020-06-20T00:00:00Z\n",
              "\n",
              "[5 rows x 13 columns]"
            ]
          },
          "metadata": {
            "tags": []
          },
          "execution_count": 106
        }
      ]
    },
    {
      "cell_type": "code",
      "metadata": {
        "colab": {
          "base_uri": "https://localhost:8080/"
        },
        "id": "NlWk67npKkXV",
        "outputId": "7f1a28cd-38e5-4db9-cb16-19e0ce474cd7"
      },
      "source": [
        "# Informacion del dataset\r\n",
        "df.info()"
      ],
      "execution_count": null,
      "outputs": [
        {
          "output_type": "stream",
          "text": [
            "<class 'pandas.core.frame.DataFrame'>\n",
            "RangeIndex: 773291 entries, 0 to 773290\n",
            "Data columns (total 13 columns):\n",
            " #   Column               Non-Null Count   Dtype  \n",
            "---  ------               --------------   -----  \n",
            " 0   COD_HOGAR            773291 non-null  int64  \n",
            " 1   UBIGEO               773291 non-null  int64  \n",
            " 2   DE_DEPARTAMENTO      773291 non-null  object \n",
            " 3   DE_PROVINCIA         773291 non-null  object \n",
            " 4   DE_DISTRITO          773291 non-null  object \n",
            " 5   PERSONAS_HOGAR       773291 non-null  int64  \n",
            " 6   MONTO                773291 non-null  float64\n",
            " 7   TIPO_BONO            773291 non-null  object \n",
            " 8   BONO_COBRADO         773291 non-null  object \n",
            " 9   FECHA_COBRO          679584 non-null  object \n",
            " 10  ENTIDAD_COBRO        773291 non-null  object \n",
            " 11  MEDIO_COBRO          773291 non-null  object \n",
            " 12  FECHA_ACTUALIZACION  773291 non-null  object \n",
            "dtypes: float64(1), int64(3), object(9)\n",
            "memory usage: 76.7+ MB\n"
          ],
          "name": "stdout"
        }
      ]
    },
    {
      "cell_type": "code",
      "metadata": {
        "colab": {
          "base_uri": "https://localhost:8080/"
        },
        "id": "aHZhXeDFLuzf",
        "outputId": "7ee6cfd5-37c0-449f-fae2-29ea7ae3cde4"
      },
      "source": [
        "# Dimension original del dataset\r\n",
        "df.shape"
      ],
      "execution_count": null,
      "outputs": [
        {
          "output_type": "execute_result",
          "data": {
            "text/plain": [
              "(773291, 13)"
            ]
          },
          "metadata": {
            "tags": []
          },
          "execution_count": 108
        }
      ]
    },
    {
      "cell_type": "code",
      "metadata": {
        "colab": {
          "base_uri": "https://localhost:8080/"
        },
        "id": "v9bNNc0GL6oS",
        "outputId": "25ac371f-1776-4190-a206-af03b792bb62"
      },
      "source": [
        "# Vemos si hay valores nulos o no\r\n",
        "df.isnull().sum()"
      ],
      "execution_count": null,
      "outputs": [
        {
          "output_type": "execute_result",
          "data": {
            "text/plain": [
              "COD_HOGAR                  0\n",
              "UBIGEO                     0\n",
              "DE_DEPARTAMENTO            0\n",
              "DE_PROVINCIA               0\n",
              "DE_DISTRITO                0\n",
              "PERSONAS_HOGAR             0\n",
              "MONTO                      0\n",
              "TIPO_BONO                  0\n",
              "BONO_COBRADO               0\n",
              "FECHA_COBRO            93707\n",
              "ENTIDAD_COBRO              0\n",
              "MEDIO_COBRO                0\n",
              "FECHA_ACTUALIZACION        0\n",
              "dtype: int64"
            ]
          },
          "metadata": {
            "tags": []
          },
          "execution_count": 109
        }
      ]
    },
    {
      "cell_type": "code",
      "metadata": {
        "colab": {
          "base_uri": "https://localhost:8080/"
        },
        "id": "qQbj2ozrMC5Z",
        "outputId": "552ccbec-34fb-43e8-94ff-4ee1688fb507"
      },
      "source": [
        "# Analizamos la variable departamento\r\n",
        "ocurrencias_dpto = df['DE_DEPARTAMENTO'].value_counts()\r\n",
        "print(ocurrencias_dpto)\r\n",
        "print(\"Número de departamentos: \", ocurrencias_dpto.shape[0])"
      ],
      "execution_count": null,
      "outputs": [
        {
          "output_type": "stream",
          "text": [
            "LIMA             240742\n",
            "AREQUIPA          80790\n",
            "LA LIBERTAD       49387\n",
            "JUNIN             40545\n",
            "PIURA             34534\n",
            "PUNO              34135\n",
            "LAMBAYEQUE        33072\n",
            "ANCASH            28198\n",
            "CUSCO             24323\n",
            "ICA               24305\n",
            "SAN MARTIN        23793\n",
            "CAJAMARCA         22930\n",
            "CALLAO            22343\n",
            "HUANUCO           18878\n",
            "TACNA             15986\n",
            "AYACUCHO          14880\n",
            "LORETO            12871\n",
            "UCAYALI            9471\n",
            "MADRE DE DIOS      7737\n",
            "PASCO              7695\n",
            "MOQUEGUA           6537\n",
            "TUMBES             5885\n",
            "AMAZONAS           5635\n",
            "APURIMAC           5167\n",
            "HUANCAVELICA       3452\n",
            "Name: DE_DEPARTAMENTO, dtype: int64\n",
            "Número de departamentos:  25\n"
          ],
          "name": "stdout"
        }
      ]
    },
    {
      "cell_type": "code",
      "metadata": {
        "colab": {
          "base_uri": "https://localhost:8080/"
        },
        "id": "M9TJuIzwMa0H",
        "outputId": "09525458-d96f-4525-e6ef-0ca3e9240a36"
      },
      "source": [
        "# Vemos en % \r\n",
        "porcen_departamentos = ocurrencias_dpto/df.DE_DEPARTAMENTO.shape[0]\r\n",
        "print(porcen_departamentos)"
      ],
      "execution_count": null,
      "outputs": [
        {
          "output_type": "stream",
          "text": [
            "LIMA             0.311321\n",
            "AREQUIPA         0.104476\n",
            "LA LIBERTAD      0.063866\n",
            "JUNIN            0.052432\n",
            "PIURA            0.044658\n",
            "PUNO             0.044143\n",
            "LAMBAYEQUE       0.042768\n",
            "ANCASH           0.036465\n",
            "CUSCO            0.031454\n",
            "ICA              0.031431\n",
            "SAN MARTIN       0.030768\n",
            "CAJAMARCA        0.029652\n",
            "CALLAO           0.028893\n",
            "HUANUCO          0.024413\n",
            "TACNA            0.020673\n",
            "AYACUCHO         0.019242\n",
            "LORETO           0.016644\n",
            "UCAYALI          0.012248\n",
            "MADRE DE DIOS    0.010005\n",
            "PASCO            0.009951\n",
            "MOQUEGUA         0.008453\n",
            "TUMBES           0.007610\n",
            "AMAZONAS         0.007287\n",
            "APURIMAC         0.006682\n",
            "HUANCAVELICA     0.004464\n",
            "Name: DE_DEPARTAMENTO, dtype: float64\n"
          ],
          "name": "stdout"
        }
      ]
    },
    {
      "cell_type": "code",
      "metadata": {
        "colab": {
          "base_uri": "https://localhost:8080/",
          "height": 693
        },
        "id": "Luqik-w6MrIh",
        "outputId": "2540d517-5311-460c-ca61-5a483c72e90d"
      },
      "source": [
        "plt.figure(figsize=(20,10))\r\n",
        "porcen_departamentos.plot(kind = 'bar', rot=0)\r\n",
        "plt.xticks(range(len(porcen_departamentos)), list(porcen_departamentos.index.values),rotation=90)\r\n",
        "plt.title(\"Distribución de casos positivos de COVID19 por departamentos en %\")\r\n",
        "plt.xlabel(\"Departamento\")\r\n",
        "plt.ylabel(\"Porcentaje\")\r\n",
        "plt.show()"
      ],
      "execution_count": null,
      "outputs": [
        {
          "output_type": "display_data",
          "data": {
            "image/png": "[encoded data removed]",
            "text/plain": [
              "<Figure size 1440x720 with 1 Axes>"
            ]
          },
          "metadata": {
            "tags": [],
            "needs_background": "light"
          }
        }
      ]
    },
    {
      "cell_type": "code",
      "metadata": {
        "colab": {
          "base_uri": "https://localhost:8080/"
        },
        "id": "1BGvEdaSMvxb",
        "outputId": "0382bdc5-157b-4d95-c15d-2b72fe187434"
      },
      "source": [
        "# Analizamos la variable provincia\r\n",
        "ocurrencias_prov = df['DE_PROVINCIA'].value_counts()\r\n",
        "print(ocurrencias_prov)\r\n",
        "print(\"Numero de provincias: \", ocurrencias_prov.shape[0])"
      ],
      "execution_count": null,
      "outputs": [
        {
          "output_type": "stream",
          "text": [
            "LIMA                         212589\n",
            "AREQUIPA                      69774\n",
            "TRUJILLO                      34339\n",
            "CHICLAYO                      27241\n",
            "HUANCAYO                      22919\n",
            "                              ...  \n",
            "ASUNCION                         42\n",
            "CONDORCANQUI                     30\n",
            "CARLOS FERMIN FITZCARRALD        27\n",
            "MARISCAL LUZURIAGA               19\n",
            "PURUS                            11\n",
            "Name: DE_PROVINCIA, Length: 196, dtype: int64\n",
            "Numero de provincias:  196\n"
          ],
          "name": "stdout"
        }
      ]
    },
    {
      "cell_type": "code",
      "metadata": {
        "colab": {
          "base_uri": "https://localhost:8080/"
        },
        "id": "UCOG3c7aNvF1",
        "outputId": "a2cbf08a-9d7f-4093-b9ff-073bde0fe723"
      },
      "source": [
        "# Vemos en % \r\n",
        "porcen_provincias = df['DE_PROVINCIA'].value_counts()/df.DE_PROVINCIA.shape[0]\r\n",
        "print(porcen_provincias)"
      ],
      "execution_count": null,
      "outputs": [
        {
          "output_type": "stream",
          "text": [
            "LIMA                         0.274915\n",
            "AREQUIPA                     0.090230\n",
            "TRUJILLO                     0.044406\n",
            "CHICLAYO                     0.035227\n",
            "HUANCAYO                     0.029638\n",
            "                               ...   \n",
            "ASUNCION                     0.000054\n",
            "CONDORCANQUI                 0.000039\n",
            "CARLOS FERMIN FITZCARRALD    0.000035\n",
            "MARISCAL LUZURIAGA           0.000025\n",
            "PURUS                        0.000014\n",
            "Name: DE_PROVINCIA, Length: 196, dtype: float64\n"
          ],
          "name": "stdout"
        }
      ]
    },
    {
      "cell_type": "code",
      "metadata": {
        "colab": {
          "base_uri": "https://localhost:8080/",
          "height": 693
        },
        "id": "A2Fd6W1ONYaG",
        "outputId": "edf564e9-8798-4e47-ee05-87e134d57eff"
      },
      "source": [
        "plt.figure(figsize=(20,10))\r\n",
        "porcen_provincias[0:20].plot(kind = 'bar', rot=0)\r\n",
        "plt.xticks(range(len(porcen_departamentos[0:20])), list(porcen_departamentos.index.values[0:20]),rotation=90)\r\n",
        "plt.title(\"Distribución de casos positivos de COVID19 por provincia en %\")\r\n",
        "plt.xlabel(\"Provincia\")\r\n",
        "plt.ylabel(\"Porcentaje\")\r\n",
        "plt.show()"
      ],
      "execution_count": null,
      "outputs": [
        {
          "output_type": "display_data",
          "data": {
            "image/png": "[encoded data removed]",
            "text/plain": [
              "<Figure size 1440x720 with 1 Axes>"
            ]
          },
          "metadata": {
            "tags": [],
            "needs_background": "light"
          }
        }
      ]
    },
    {
      "cell_type": "code",
      "metadata": {
        "colab": {
          "base_uri": "https://localhost:8080/"
        },
        "id": "0SlRNqRafkan",
        "outputId": "b48e243d-cbf4-4059-dad9-40aefb49b2ec"
      },
      "source": [
        "# Variable distrito\r\n",
        "porcen_distritos = df['DE_DISTRITO'].value_counts()/df.DE_DISTRITO.shape[0]\r\n",
        "print(porcen_distritos)"
      ],
      "execution_count": null,
      "outputs": [
        {
          "output_type": "stream",
          "text": [
            "SAN JUAN DE LURIGANCHO    0.028423\n",
            "SAN MARTIN DE PORRES      0.021961\n",
            "JULIACA                   0.019123\n",
            "COMAS                     0.017550\n",
            "TRUJILLO                  0.015664\n",
            "                            ...   \n",
            "LINCHA                    0.000001\n",
            "CAICAY                    0.000001\n",
            "MUSGA                     0.000001\n",
            "SAN JUAN DE IRIS          0.000001\n",
            "SAYLA                     0.000001\n",
            "Name: DE_DISTRITO, Length: 1632, dtype: float64\n"
          ],
          "name": "stdout"
        }
      ]
    },
    {
      "cell_type": "code",
      "metadata": {
        "colab": {
          "base_uri": "https://localhost:8080/"
        },
        "id": "53TNWkvAN9ZP",
        "outputId": "bdcdca6b-9782-4aea-ae34-fef39719d9da"
      },
      "source": [
        "df[\"PERSONAS_HOGAR\"].value_counts()"
      ],
      "execution_count": null,
      "outputs": [
        {
          "output_type": "execute_result",
          "data": {
            "text/plain": [
              "1     379610\n",
              "2     253676\n",
              "3      94011\n",
              "4      33984\n",
              "5       9044\n",
              "6       2251\n",
              "7        528\n",
              "8        133\n",
              "9         37\n",
              "10        15\n",
              "13         1\n",
              "12         1\n",
              "Name: PERSONAS_HOGAR, dtype: int64"
            ]
          },
          "metadata": {
            "tags": []
          },
          "execution_count": 117
        }
      ]
    },
    {
      "cell_type": "code",
      "metadata": {
        "colab": {
          "base_uri": "https://localhost:8080/"
        },
        "id": "7iyPiWKwXRtm",
        "outputId": "217e9d8d-e69c-422d-bae6-6afc6c0c8589"
      },
      "source": [
        "porcen_num_perso = df['PERSONAS_HOGAR'].value_counts()/df['PERSONAS_HOGAR'].shape[0]\r\n",
        "print(porcen_num_perso)"
      ],
      "execution_count": null,
      "outputs": [
        {
          "output_type": "stream",
          "text": [
            "1     0.490902\n",
            "2     0.328047\n",
            "3     0.121573\n",
            "4     0.043947\n",
            "5     0.011695\n",
            "6     0.002911\n",
            "7     0.000683\n",
            "8     0.000172\n",
            "9     0.000048\n",
            "10    0.000019\n",
            "13    0.000001\n",
            "12    0.000001\n",
            "Name: PERSONAS_HOGAR, dtype: float64\n"
          ],
          "name": "stdout"
        }
      ]
    },
    {
      "cell_type": "code",
      "metadata": {
        "colab": {
          "base_uri": "https://localhost:8080/"
        },
        "id": "H2pZI5Pjcfci",
        "outputId": "8c729d19-ed47-4871-a036-cae2d5495443"
      },
      "source": [
        "porcen_num_perso.values[0]"
      ],
      "execution_count": null,
      "outputs": [
        {
          "output_type": "execute_result",
          "data": {
            "text/plain": [
              "0.49090187264561463"
            ]
          },
          "metadata": {
            "tags": []
          },
          "execution_count": 119
        }
      ]
    },
    {
      "cell_type": "code",
      "metadata": {
        "colab": {
          "base_uri": "https://localhost:8080/"
        },
        "id": "ZKepvsVvb8CS",
        "outputId": "0f29e696-331d-4cb2-ee41-8e71b5c1b4da"
      },
      "source": [
        "# Acumulado\r\n",
        "sum = 0\r\n",
        "acumulado_npers = {}\r\n",
        "for i in range(len(porcen_num_perso)):\r\n",
        "  aporte = porcen_num_perso.values[i]\r\n",
        "  dep = porcen_num_perso.index[i]\r\n",
        "  sum = sum + aporte\r\n",
        "  acumulado_npers.setdefault(dep,sum)\r\n",
        "acumulado_npers = pd.Series(acumulado_npers)\r\n",
        "print(acumulado_npers)"
      ],
      "execution_count": null,
      "outputs": [
        {
          "output_type": "stream",
          "text": [
            "1     0.490902\n",
            "2     0.818949\n",
            "3     0.940522\n",
            "4     0.984469\n",
            "5     0.996164\n",
            "6     0.999075\n",
            "7     0.999758\n",
            "8     0.999930\n",
            "9     0.999978\n",
            "10    0.999997\n",
            "13    0.999999\n",
            "12    1.000000\n",
            "dtype: float64\n"
          ],
          "name": "stdout"
        }
      ]
    },
    {
      "cell_type": "code",
      "metadata": {
        "colab": {
          "base_uri": "https://localhost:8080/",
          "height": 296
        },
        "id": "vxowkJ4UXZZp",
        "outputId": "e06e5eae-31b3-435b-e4ac-23977c2f27d0"
      },
      "source": [
        "porcen_num_perso.plot(kind = 'bar', rot=0)\r\n",
        "plt.xticks(range(len(list(porcen_num_perso.index))), list(porcen_num_perso.index))\r\n",
        "plt.title(\"Personas por hogar en %\")\r\n",
        "plt.xlabel(\"Número de personas por hogar\")\r\n",
        "plt.ylabel(\"Porcentaje\")\r\n",
        "plt.show()"
      ],
      "execution_count": null,
      "outputs": [
        {
          "output_type": "display_data",
          "data": {
            "image/png": "[encoded data removed]",
            "text/plain": [
              "<Figure size 432x288 with 1 Axes>"
            ]
          },
          "metadata": {
            "tags": [],
            "needs_background": "light"
          }
        }
      ]
    },
    {
      "cell_type": "code",
      "metadata": {
        "colab": {
          "base_uri": "https://localhost:8080/"
        },
        "id": "qUHGmiCNPDzw",
        "outputId": "529bb779-276e-4f82-e8c4-45a4dac38e88"
      },
      "source": [
        "df[\"MONTO\"].value_counts()"
      ],
      "execution_count": null,
      "outputs": [
        {
          "output_type": "execute_result",
          "data": {
            "text/plain": [
              "760.0    773291\n",
              "Name: MONTO, dtype: int64"
            ]
          },
          "metadata": {
            "tags": []
          },
          "execution_count": 122
        }
      ]
    },
    {
      "cell_type": "code",
      "metadata": {
        "colab": {
          "base_uri": "https://localhost:8080/"
        },
        "id": "67iTyFszPS2J",
        "outputId": "5a7d6767-547d-4322-95ac-1f5255884618"
      },
      "source": [
        "df[\"TIPO_BONO\"].value_counts()"
      ],
      "execution_count": null,
      "outputs": [
        {
          "output_type": "execute_result",
          "data": {
            "text/plain": [
              "BONO_INDEPENDIENTE    773291\n",
              "Name: TIPO_BONO, dtype: int64"
            ]
          },
          "metadata": {
            "tags": []
          },
          "execution_count": 123
        }
      ]
    },
    {
      "cell_type": "code",
      "metadata": {
        "colab": {
          "base_uri": "https://localhost:8080/"
        },
        "id": "MnLsSRLKPbcy",
        "outputId": "86938b4d-a9d5-4471-f207-5be43568f4a8"
      },
      "source": [
        "df[\"BONO_COBRADO\"].value_counts()"
      ],
      "execution_count": null,
      "outputs": [
        {
          "output_type": "execute_result",
          "data": {
            "text/plain": [
              "SI    679584\n",
              "NO     93707\n",
              "Name: BONO_COBRADO, dtype: int64"
            ]
          },
          "metadata": {
            "tags": []
          },
          "execution_count": 124
        }
      ]
    },
    {
      "cell_type": "code",
      "metadata": {
        "colab": {
          "base_uri": "https://localhost:8080/"
        },
        "id": "kOlVyvSkVmmv",
        "outputId": "c93a0945-6b07-4060-b38c-ec7a56091173"
      },
      "source": [
        "bono = df['BONO_COBRADO'].value_counts()/df['BONO_COBRADO'].shape[0]\r\n",
        "print(bono)"
      ],
      "execution_count": null,
      "outputs": [
        {
          "output_type": "stream",
          "text": [
            "SI    0.878821\n",
            "NO    0.121179\n",
            "Name: BONO_COBRADO, dtype: float64\n"
          ],
          "name": "stdout"
        }
      ]
    },
    {
      "cell_type": "code",
      "metadata": {
        "colab": {
          "base_uri": "https://localhost:8080/",
          "height": 295
        },
        "id": "amJh8epoVvOI",
        "outputId": "894bb9a8-7900-4e6f-d78e-2049ae9fc8a8"
      },
      "source": [
        "bono.plot(kind = 'bar', rot=0)\r\n",
        "plt.xticks(range(2), ['SI', 'NO'])\r\n",
        "plt.title(\"Estado de cobro del bono en %\")\r\n",
        "plt.xlabel(\"Estado de cobro\")\r\n",
        "plt.ylabel(\"Porcentaje\")\r\n",
        "plt.show()"
      ],
      "execution_count": null,
      "outputs": [
        {
          "output_type": "display_data",
          "data": {
            "image/png": "[encoded data removed]",
            "text/plain": [
              "<Figure size 432x288 with 1 Axes>"
            ]
          },
          "metadata": {
            "tags": [],
            "needs_background": "light"
          }
        }
      ]
    },
    {
      "cell_type": "code",
      "metadata": {
        "colab": {
          "base_uri": "https://localhost:8080/"
        },
        "id": "CjNmPnOlPhgG",
        "outputId": "c9ace402-63ba-466f-95df-6757367c5346"
      },
      "source": [
        "df[\"ENTIDAD_COBRO\"].value_counts()"
      ],
      "execution_count": null,
      "outputs": [
        {
          "output_type": "execute_result",
          "data": {
            "text/plain": [
              "BANCO DE LA NACION    773291\n",
              "Name: ENTIDAD_COBRO, dtype: int64"
            ]
          },
          "metadata": {
            "tags": []
          },
          "execution_count": 127
        }
      ]
    },
    {
      "cell_type": "code",
      "metadata": {
        "colab": {
          "base_uri": "https://localhost:8080/"
        },
        "id": "O_J9YuF1PrkL",
        "outputId": "0a5795a8-b5d8-4307-f97d-e3291076c75e"
      },
      "source": [
        "df[\"MEDIO_COBRO\"].value_counts()"
      ],
      "execution_count": null,
      "outputs": [
        {
          "output_type": "execute_result",
          "data": {
            "text/plain": [
              "BANCA CELULAR      513190\n",
              "VENTANILLA         146652\n",
              "ABONO EN CUENTA    113449\n",
              "Name: MEDIO_COBRO, dtype: int64"
            ]
          },
          "metadata": {
            "tags": []
          },
          "execution_count": 128
        }
      ]
    },
    {
      "cell_type": "code",
      "metadata": {
        "colab": {
          "base_uri": "https://localhost:8080/"
        },
        "id": "XAEE3AtiWClY",
        "outputId": "cb2587c2-1873-4f6e-ad2d-6aa354f492f2"
      },
      "source": [
        "medio = df['MEDIO_COBRO'].value_counts()/df['MEDIO_COBRO'].shape[0]\r\n",
        "print(medio)"
      ],
      "execution_count": null,
      "outputs": [
        {
          "output_type": "stream",
          "text": [
            "BANCA CELULAR      0.663644\n",
            "VENTANILLA         0.189647\n",
            "ABONO EN CUENTA    0.146709\n",
            "Name: MEDIO_COBRO, dtype: float64\n"
          ],
          "name": "stdout"
        }
      ]
    },
    {
      "cell_type": "code",
      "metadata": {
        "colab": {
          "base_uri": "https://localhost:8080/",
          "height": 295
        },
        "id": "nBrg_N8gWJZl",
        "outputId": "26fa3a1f-8d35-463a-e06d-ef63552212de"
      },
      "source": [
        "medio.plot(kind = 'bar', rot=0)\r\n",
        "plt.xticks(range(len(list(medio.index))), list(medio.index))\r\n",
        "plt.title(\"Modalidad de cobro en %\")\r\n",
        "plt.xlabel(\"Modalidad de cobro\")\r\n",
        "plt.ylabel(\"Porcentaje\")\r\n",
        "plt.show()"
      ],
      "execution_count": null,
      "outputs": [
        {
          "output_type": "display_data",
          "data": {
            "image/png": "[encoded data removed]",
            "text/plain": [
              "<Figure size 432x288 with 1 Axes>"
            ]
          },
          "metadata": {
            "tags": [],
            "needs_background": "light"
          }
        }
      ]
    },
    {
      "cell_type": "code",
      "metadata": {
        "id": "8zTGqPKITxcx"
      },
      "source": [
        "# Como se ve tanto las variables MONTO,TIPO_BONO,ENTIDAD_COBRO solo toman un valor por lo cual no aportan al modelo de clasificacion"
      ],
      "execution_count": null,
      "outputs": []
    },
    {
      "cell_type": "code",
      "metadata": {
        "id": "BfI_EmYETE1U"
      },
      "source": [
        "# Además el estado de cobro del bono el cual es la variable independiente en estudio tiene como clase mayoritaria SI"
      ],
      "execution_count": null,
      "outputs": []
    },
    {
      "cell_type": "markdown",
      "metadata": {
        "id": "lq4omO_Eejet"
      },
      "source": [
        "#**2.Preprocesamiento**"
      ]
    },
    {
      "cell_type": "code",
      "metadata": {
        "colab": {
          "base_uri": "https://localhost:8080/",
          "height": 309
        },
        "id": "xSgWUTjdey4s",
        "outputId": "1f4ddb38-1804-4286-c4f9-28e28d4eb3f1"
      },
      "source": [
        "df.head()"
      ],
      "execution_count": null,
      "outputs": [
        {
          "output_type": "execute_result",
          "data": {
            "text/html": [
              "<div>\n",
              "<style scoped>\n",
              "    .dataframe tbody tr th:only-of-type {\n",
              "        vertical-align: middle;\n",
              "    }\n",
              "\n",
              "    .dataframe tbody tr th {\n",
              "        vertical-align: top;\n",
              "    }\n",
              "\n",
              "    .dataframe thead th {\n",
              "        text-align: right;\n",
              "    }\n",
              "</style>\n",
              "<table border=\"1\" class=\"dataframe\">\n",
              "  <thead>\n",
              "    <tr style=\"text-align: right;\">\n",
              "      <th></th>\n",
              "      <th>COD_HOGAR</th>\n",
              "      <th>UBIGEO</th>\n",
              "      <th>DE_DEPARTAMENTO</th>\n",
              "      <th>DE_PROVINCIA</th>\n",
              "      <th>DE_DISTRITO</th>\n",
              "      <th>PERSONAS_HOGAR</th>\n",
              "      <th>MONTO</th>\n",
              "      <th>TIPO_BONO</th>\n",
              "      <th>BONO_COBRADO</th>\n",
              "      <th>FECHA_COBRO</th>\n",
              "      <th>ENTIDAD_COBRO</th>\n",
              "      <th>MEDIO_COBRO</th>\n",
              "      <th>FECHA_ACTUALIZACION</th>\n",
              "    </tr>\n",
              "  </thead>\n",
              "  <tbody>\n",
              "    <tr>\n",
              "      <th>0</th>\n",
              "      <td>43</td>\n",
              "      <td>10205</td>\n",
              "      <td>AMAZONAS</td>\n",
              "      <td>BAGUA</td>\n",
              "      <td>IMAZA</td>\n",
              "      <td>2</td>\n",
              "      <td>760.0</td>\n",
              "      <td>BONO_INDEPENDIENTE</td>\n",
              "      <td>SI</td>\n",
              "      <td>2020-04-27T00:00:00Z</td>\n",
              "      <td>BANCO DE LA NACION</td>\n",
              "      <td>ABONO EN CUENTA</td>\n",
              "      <td>2020-06-20T00:00:00Z</td>\n",
              "    </tr>\n",
              "    <tr>\n",
              "      <th>1</th>\n",
              "      <td>76</td>\n",
              "      <td>10310</td>\n",
              "      <td>AMAZONAS</td>\n",
              "      <td>BONGARA</td>\n",
              "      <td>SHIPASBAMBA</td>\n",
              "      <td>1</td>\n",
              "      <td>760.0</td>\n",
              "      <td>BONO_INDEPENDIENTE</td>\n",
              "      <td>SI</td>\n",
              "      <td>2020-04-27T00:00:00Z</td>\n",
              "      <td>BANCO DE LA NACION</td>\n",
              "      <td>ABONO EN CUENTA</td>\n",
              "      <td>2020-06-20T00:00:00Z</td>\n",
              "    </tr>\n",
              "    <tr>\n",
              "      <th>2</th>\n",
              "      <td>166</td>\n",
              "      <td>60801</td>\n",
              "      <td>CAJAMARCA</td>\n",
              "      <td>JAEN</td>\n",
              "      <td>JAEN</td>\n",
              "      <td>1</td>\n",
              "      <td>760.0</td>\n",
              "      <td>BONO_INDEPENDIENTE</td>\n",
              "      <td>SI</td>\n",
              "      <td>2020-04-27T00:00:00Z</td>\n",
              "      <td>BANCO DE LA NACION</td>\n",
              "      <td>ABONO EN CUENTA</td>\n",
              "      <td>2020-06-20T00:00:00Z</td>\n",
              "    </tr>\n",
              "    <tr>\n",
              "      <th>3</th>\n",
              "      <td>174</td>\n",
              "      <td>10502</td>\n",
              "      <td>AMAZONAS</td>\n",
              "      <td>LUYA</td>\n",
              "      <td>CAMPORREDONDO</td>\n",
              "      <td>2</td>\n",
              "      <td>760.0</td>\n",
              "      <td>BONO_INDEPENDIENTE</td>\n",
              "      <td>SI</td>\n",
              "      <td>2020-04-29T00:00:00Z</td>\n",
              "      <td>BANCO DE LA NACION</td>\n",
              "      <td>BANCA CELULAR</td>\n",
              "      <td>2020-06-20T00:00:00Z</td>\n",
              "    </tr>\n",
              "    <tr>\n",
              "      <th>4</th>\n",
              "      <td>337</td>\n",
              "      <td>20301</td>\n",
              "      <td>ANCASH</td>\n",
              "      <td>ANTONIO RAYMONDI</td>\n",
              "      <td>LLAMELLIN</td>\n",
              "      <td>1</td>\n",
              "      <td>760.0</td>\n",
              "      <td>BONO_INDEPENDIENTE</td>\n",
              "      <td>NO</td>\n",
              "      <td>NaN</td>\n",
              "      <td>BANCO DE LA NACION</td>\n",
              "      <td>VENTANILLA</td>\n",
              "      <td>2020-06-20T00:00:00Z</td>\n",
              "    </tr>\n",
              "  </tbody>\n",
              "</table>\n",
              "</div>"
            ],
            "text/plain": [
              "   COD_HOGAR  UBIGEO  ...      MEDIO_COBRO   FECHA_ACTUALIZACION\n",
              "0         43   10205  ...  ABONO EN CUENTA  2020-06-20T00:00:00Z\n",
              "1         76   10310  ...  ABONO EN CUENTA  2020-06-20T00:00:00Z\n",
              "2        166   60801  ...  ABONO EN CUENTA  2020-06-20T00:00:00Z\n",
              "3        174   10502  ...    BANCA CELULAR  2020-06-20T00:00:00Z\n",
              "4        337   20301  ...       VENTANILLA  2020-06-20T00:00:00Z\n",
              "\n",
              "[5 rows x 13 columns]"
            ]
          },
          "metadata": {
            "tags": []
          },
          "execution_count": 133
        }
      ]
    },
    {
      "cell_type": "code",
      "metadata": {
        "colab": {
          "base_uri": "https://localhost:8080/",
          "height": 204
        },
        "id": "O9Ky6Ef6emT9",
        "outputId": "6e08919e-dbb5-4592-93d7-05a7c4df7f31"
      },
      "source": [
        "# Eliminamos variables que no aporten al modelo\r\n",
        "df = df.drop(['COD_HOGAR','UBIGEO','MONTO','TIPO_BONO','FECHA_COBRO','ENTIDAD_COBRO','FECHA_ACTUALIZACION'],\r\n",
        "             axis = 1)\r\n",
        "df.head()"
      ],
      "execution_count": null,
      "outputs": [
        {
          "output_type": "execute_result",
          "data": {
            "text/html": [
              "<div>\n",
              "<style scoped>\n",
              "    .dataframe tbody tr th:only-of-type {\n",
              "        vertical-align: middle;\n",
              "    }\n",
              "\n",
              "    .dataframe tbody tr th {\n",
              "        vertical-align: top;\n",
              "    }\n",
              "\n",
              "    .dataframe thead th {\n",
              "        text-align: right;\n",
              "    }\n",
              "</style>\n",
              "<table border=\"1\" class=\"dataframe\">\n",
              "  <thead>\n",
              "    <tr style=\"text-align: right;\">\n",
              "      <th></th>\n",
              "      <th>DE_DEPARTAMENTO</th>\n",
              "      <th>DE_PROVINCIA</th>\n",
              "      <th>DE_DISTRITO</th>\n",
              "      <th>PERSONAS_HOGAR</th>\n",
              "      <th>BONO_COBRADO</th>\n",
              "      <th>MEDIO_COBRO</th>\n",
              "    </tr>\n",
              "  </thead>\n",
              "  <tbody>\n",
              "    <tr>\n",
              "      <th>0</th>\n",
              "      <td>AMAZONAS</td>\n",
              "      <td>BAGUA</td>\n",
              "      <td>IMAZA</td>\n",
              "      <td>2</td>\n",
              "      <td>SI</td>\n",
              "      <td>ABONO EN CUENTA</td>\n",
              "    </tr>\n",
              "    <tr>\n",
              "      <th>1</th>\n",
              "      <td>AMAZONAS</td>\n",
              "      <td>BONGARA</td>\n",
              "      <td>SHIPASBAMBA</td>\n",
              "      <td>1</td>\n",
              "      <td>SI</td>\n",
              "      <td>ABONO EN CUENTA</td>\n",
              "    </tr>\n",
              "    <tr>\n",
              "      <th>2</th>\n",
              "      <td>CAJAMARCA</td>\n",
              "      <td>JAEN</td>\n",
              "      <td>JAEN</td>\n",
              "      <td>1</td>\n",
              "      <td>SI</td>\n",
              "      <td>ABONO EN CUENTA</td>\n",
              "    </tr>\n",
              "    <tr>\n",
              "      <th>3</th>\n",
              "      <td>AMAZONAS</td>\n",
              "      <td>LUYA</td>\n",
              "      <td>CAMPORREDONDO</td>\n",
              "      <td>2</td>\n",
              "      <td>SI</td>\n",
              "      <td>BANCA CELULAR</td>\n",
              "    </tr>\n",
              "    <tr>\n",
              "      <th>4</th>\n",
              "      <td>ANCASH</td>\n",
              "      <td>ANTONIO RAYMONDI</td>\n",
              "      <td>LLAMELLIN</td>\n",
              "      <td>1</td>\n",
              "      <td>NO</td>\n",
              "      <td>VENTANILLA</td>\n",
              "    </tr>\n",
              "  </tbody>\n",
              "</table>\n",
              "</div>"
            ],
            "text/plain": [
              "  DE_DEPARTAMENTO      DE_PROVINCIA  ... BONO_COBRADO      MEDIO_COBRO\n",
              "0        AMAZONAS             BAGUA  ...           SI  ABONO EN CUENTA\n",
              "1        AMAZONAS           BONGARA  ...           SI  ABONO EN CUENTA\n",
              "2       CAJAMARCA              JAEN  ...           SI  ABONO EN CUENTA\n",
              "3        AMAZONAS              LUYA  ...           SI    BANCA CELULAR\n",
              "4          ANCASH  ANTONIO RAYMONDI  ...           NO       VENTANILLA\n",
              "\n",
              "[5 rows x 6 columns]"
            ]
          },
          "metadata": {
            "tags": []
          },
          "execution_count": 134
        }
      ]
    },
    {
      "cell_type": "code",
      "metadata": {
        "colab": {
          "base_uri": "https://localhost:8080/",
          "height": 204
        },
        "id": "oFE1GvR-fHyR",
        "outputId": "609ad018-b25a-4ab7-ad87-fb7a6b363bfd"
      },
      "source": [
        "df = df.reindex(columns=['DE_DEPARTAMENTO','DE_PROVINCIA','DE_DISTRITO','PERSONAS_HOGAR','MEDIO_COBRO','BONO_COBRADO'])\r\n",
        "df.head()"
      ],
      "execution_count": null,
      "outputs": [
        {
          "output_type": "execute_result",
          "data": {
            "text/html": [
              "<div>\n",
              "<style scoped>\n",
              "    .dataframe tbody tr th:only-of-type {\n",
              "        vertical-align: middle;\n",
              "    }\n",
              "\n",
              "    .dataframe tbody tr th {\n",
              "        vertical-align: top;\n",
              "    }\n",
              "\n",
              "    .dataframe thead th {\n",
              "        text-align: right;\n",
              "    }\n",
              "</style>\n",
              "<table border=\"1\" class=\"dataframe\">\n",
              "  <thead>\n",
              "    <tr style=\"text-align: right;\">\n",
              "      <th></th>\n",
              "      <th>DE_DEPARTAMENTO</th>\n",
              "      <th>DE_PROVINCIA</th>\n",
              "      <th>DE_DISTRITO</th>\n",
              "      <th>PERSONAS_HOGAR</th>\n",
              "      <th>MEDIO_COBRO</th>\n",
              "      <th>BONO_COBRADO</th>\n",
              "    </tr>\n",
              "  </thead>\n",
              "  <tbody>\n",
              "    <tr>\n",
              "      <th>0</th>\n",
              "      <td>AMAZONAS</td>\n",
              "      <td>BAGUA</td>\n",
              "      <td>IMAZA</td>\n",
              "      <td>2</td>\n",
              "      <td>ABONO EN CUENTA</td>\n",
              "      <td>SI</td>\n",
              "    </tr>\n",
              "    <tr>\n",
              "      <th>1</th>\n",
              "      <td>AMAZONAS</td>\n",
              "      <td>BONGARA</td>\n",
              "      <td>SHIPASBAMBA</td>\n",
              "      <td>1</td>\n",
              "      <td>ABONO EN CUENTA</td>\n",
              "      <td>SI</td>\n",
              "    </tr>\n",
              "    <tr>\n",
              "      <th>2</th>\n",
              "      <td>CAJAMARCA</td>\n",
              "      <td>JAEN</td>\n",
              "      <td>JAEN</td>\n",
              "      <td>1</td>\n",
              "      <td>ABONO EN CUENTA</td>\n",
              "      <td>SI</td>\n",
              "    </tr>\n",
              "    <tr>\n",
              "      <th>3</th>\n",
              "      <td>AMAZONAS</td>\n",
              "      <td>LUYA</td>\n",
              "      <td>CAMPORREDONDO</td>\n",
              "      <td>2</td>\n",
              "      <td>BANCA CELULAR</td>\n",
              "      <td>SI</td>\n",
              "    </tr>\n",
              "    <tr>\n",
              "      <th>4</th>\n",
              "      <td>ANCASH</td>\n",
              "      <td>ANTONIO RAYMONDI</td>\n",
              "      <td>LLAMELLIN</td>\n",
              "      <td>1</td>\n",
              "      <td>VENTANILLA</td>\n",
              "      <td>NO</td>\n",
              "    </tr>\n",
              "  </tbody>\n",
              "</table>\n",
              "</div>"
            ],
            "text/plain": [
              "  DE_DEPARTAMENTO      DE_PROVINCIA  ...      MEDIO_COBRO  BONO_COBRADO\n",
              "0        AMAZONAS             BAGUA  ...  ABONO EN CUENTA            SI\n",
              "1        AMAZONAS           BONGARA  ...  ABONO EN CUENTA            SI\n",
              "2       CAJAMARCA              JAEN  ...  ABONO EN CUENTA            SI\n",
              "3        AMAZONAS              LUYA  ...    BANCA CELULAR            SI\n",
              "4          ANCASH  ANTONIO RAYMONDI  ...       VENTANILLA            NO\n",
              "\n",
              "[5 rows x 6 columns]"
            ]
          },
          "metadata": {
            "tags": []
          },
          "execution_count": 135
        }
      ]
    },
    {
      "cell_type": "markdown",
      "metadata": {
        "id": "0mfZJPp3g1Ps"
      },
      "source": [
        "##**2.1.Variables categóricas**"
      ]
    },
    {
      "cell_type": "code",
      "metadata": {
        "colab": {
          "base_uri": "https://localhost:8080/"
        },
        "id": "htxgWkMagW8D",
        "outputId": "88792def-624c-403b-b8b1-99dd735d58a1"
      },
      "source": [
        "# Hallamos el ratio de aparicion de cada departamento\r\n",
        "departamento = (df[\"DE_DEPARTAMENTO\"].value_counts()/df[\"DE_DEPARTAMENTO\"].count()).to_dict()\r\n",
        "departamento"
      ],
      "execution_count": null,
      "outputs": [
        {
          "output_type": "execute_result",
          "data": {
            "text/plain": [
              "{'AMAZONAS': 0.007287036833481833,\n",
              " 'ANCASH': 0.03646492717489276,\n",
              " 'APURIMAC': 0.0066818312899025074,\n",
              " 'AREQUIPA': 0.10447554672173864,\n",
              " 'AYACUCHO': 0.01924243266765034,\n",
              " 'CAJAMARCA': 0.029652485286910103,\n",
              " 'CALLAO': 0.02889339200895911,\n",
              " 'CUSCO': 0.03145387700102549,\n",
              " 'HUANCAVELICA': 0.004464037471016732,\n",
              " 'HUANUCO': 0.02441254327284295,\n",
              " 'ICA': 0.031430599864733975,\n",
              " 'JUNIN': 0.05243174949663193,\n",
              " 'LA LIBERTAD': 0.06386599611271825,\n",
              " 'LAMBAYEQUE': 0.04276785841293899,\n",
              " 'LIMA': 0.3113213525050725,\n",
              " 'LORETO': 0.01664444562266986,\n",
              " 'MADRE DE DIOS': 0.010005289082635127,\n",
              " 'MOQUEGUA': 0.008453479996534292,\n",
              " 'PASCO': 0.009950975764621598,\n",
              " 'PIURA': 0.044658479149505166,\n",
              " 'PUNO': 0.04414250262837664,\n",
              " 'SAN MARTIN': 0.030768494654664285,\n",
              " 'TACNA': 0.020672683375339944,\n",
              " 'TUMBES': 0.007610330393086173,\n",
              " 'UCAYALI': 0.012247653212050832}"
            ]
          },
          "metadata": {
            "tags": []
          },
          "execution_count": 136
        }
      ]
    },
    {
      "cell_type": "code",
      "metadata": {
        "id": "fH2PCE5DhAM3"
      },
      "source": [
        "# Reemplazamos en el dataset\r\n",
        "df[\"DE_DEPARTAMENTO\"].replace(departamento, inplace=True)"
      ],
      "execution_count": null,
      "outputs": []
    },
    {
      "cell_type": "code",
      "metadata": {
        "id": "11B9NhPLhD1O"
      },
      "source": [
        "# Hallamos el ratio de aparicion de cada provincia\r\n",
        "provincia = (df[\"DE_PROVINCIA\"].value_counts()/df[\"DE_PROVINCIA\"].count()).to_dict()\r\n",
        "#provincia"
      ],
      "execution_count": null,
      "outputs": []
    },
    {
      "cell_type": "code",
      "metadata": {
        "id": "xG0lNOE9hWN_"
      },
      "source": [
        "# Reemplazamos en el dataset\r\n",
        "df[\"DE_PROVINCIA\"].replace(provincia, inplace=True)"
      ],
      "execution_count": null,
      "outputs": []
    },
    {
      "cell_type": "code",
      "metadata": {
        "id": "A7Dt2izQhmEf"
      },
      "source": [
        "#  Hallamos el ratio de aparicion de cada distrito\r\n",
        "distrito = (df[\"DE_DISTRITO\"].value_counts()/df[\"DE_DISTRITO\"].count()).to_dict()\r\n",
        "#distrito"
      ],
      "execution_count": null,
      "outputs": []
    },
    {
      "cell_type": "code",
      "metadata": {
        "id": "djnuH3fniLuD"
      },
      "source": [
        "df[\"DE_DISTRITO\"].replace(distrito, inplace=True)"
      ],
      "execution_count": null,
      "outputs": []
    },
    {
      "cell_type": "code",
      "metadata": {
        "colab": {
          "base_uri": "https://localhost:8080/",
          "height": 204
        },
        "id": "1ONUOal2iPbz",
        "outputId": "e04cc1f6-d550-4f74-844c-cdc9cf0a337b"
      },
      "source": [
        "df.head()"
      ],
      "execution_count": null,
      "outputs": [
        {
          "output_type": "execute_result",
          "data": {
            "text/html": [
              "<div>\n",
              "<style scoped>\n",
              "    .dataframe tbody tr th:only-of-type {\n",
              "        vertical-align: middle;\n",
              "    }\n",
              "\n",
              "    .dataframe tbody tr th {\n",
              "        vertical-align: top;\n",
              "    }\n",
              "\n",
              "    .dataframe thead th {\n",
              "        text-align: right;\n",
              "    }\n",
              "</style>\n",
              "<table border=\"1\" class=\"dataframe\">\n",
              "  <thead>\n",
              "    <tr style=\"text-align: right;\">\n",
              "      <th></th>\n",
              "      <th>DE_DEPARTAMENTO</th>\n",
              "      <th>DE_PROVINCIA</th>\n",
              "      <th>DE_DISTRITO</th>\n",
              "      <th>PERSONAS_HOGAR</th>\n",
              "      <th>MEDIO_COBRO</th>\n",
              "      <th>BONO_COBRADO</th>\n",
              "    </tr>\n",
              "  </thead>\n",
              "  <tbody>\n",
              "    <tr>\n",
              "      <th>0</th>\n",
              "      <td>0.007287</td>\n",
              "      <td>0.001741</td>\n",
              "      <td>0.000036</td>\n",
              "      <td>2</td>\n",
              "      <td>ABONO EN CUENTA</td>\n",
              "      <td>SI</td>\n",
              "    </tr>\n",
              "    <tr>\n",
              "      <th>1</th>\n",
              "      <td>0.007287</td>\n",
              "      <td>0.001194</td>\n",
              "      <td>0.000052</td>\n",
              "      <td>1</td>\n",
              "      <td>ABONO EN CUENTA</td>\n",
              "      <td>SI</td>\n",
              "    </tr>\n",
              "    <tr>\n",
              "      <th>2</th>\n",
              "      <td>0.029652</td>\n",
              "      <td>0.006352</td>\n",
              "      <td>0.005598</td>\n",
              "      <td>1</td>\n",
              "      <td>ABONO EN CUENTA</td>\n",
              "      <td>SI</td>\n",
              "    </tr>\n",
              "    <tr>\n",
              "      <th>3</th>\n",
              "      <td>0.007287</td>\n",
              "      <td>0.000581</td>\n",
              "      <td>0.000176</td>\n",
              "      <td>2</td>\n",
              "      <td>BANCA CELULAR</td>\n",
              "      <td>SI</td>\n",
              "    </tr>\n",
              "    <tr>\n",
              "      <th>4</th>\n",
              "      <td>0.036465</td>\n",
              "      <td>0.000079</td>\n",
              "      <td>0.000049</td>\n",
              "      <td>1</td>\n",
              "      <td>VENTANILLA</td>\n",
              "      <td>NO</td>\n",
              "    </tr>\n",
              "  </tbody>\n",
              "</table>\n",
              "</div>"
            ],
            "text/plain": [
              "   DE_DEPARTAMENTO  DE_PROVINCIA  ...      MEDIO_COBRO  BONO_COBRADO\n",
              "0         0.007287      0.001741  ...  ABONO EN CUENTA            SI\n",
              "1         0.007287      0.001194  ...  ABONO EN CUENTA            SI\n",
              "2         0.029652      0.006352  ...  ABONO EN CUENTA            SI\n",
              "3         0.007287      0.000581  ...    BANCA CELULAR            SI\n",
              "4         0.036465      0.000079  ...       VENTANILLA            NO\n",
              "\n",
              "[5 rows x 6 columns]"
            ]
          },
          "metadata": {
            "tags": []
          },
          "execution_count": 142
        }
      ]
    },
    {
      "cell_type": "code",
      "metadata": {
        "id": "kLkNWajqi_KZ"
      },
      "source": [
        "# Variables dummy\r\n",
        "MEDIOCOBRO_dummy=pd.get_dummies(df[\"MEDIO_COBRO\"])"
      ],
      "execution_count": null,
      "outputs": []
    },
    {
      "cell_type": "code",
      "metadata": {
        "colab": {
          "base_uri": "https://localhost:8080/",
          "height": 419
        },
        "id": "OeJ9QlY_jZrE",
        "outputId": "08710873-1852-4e8a-81bc-0cacf84a7020"
      },
      "source": [
        "MEDIOCOBRO_dummy"
      ],
      "execution_count": null,
      "outputs": [
        {
          "output_type": "execute_result",
          "data": {
            "text/html": [
              "<div>\n",
              "<style scoped>\n",
              "    .dataframe tbody tr th:only-of-type {\n",
              "        vertical-align: middle;\n",
              "    }\n",
              "\n",
              "    .dataframe tbody tr th {\n",
              "        vertical-align: top;\n",
              "    }\n",
              "\n",
              "    .dataframe thead th {\n",
              "        text-align: right;\n",
              "    }\n",
              "</style>\n",
              "<table border=\"1\" class=\"dataframe\">\n",
              "  <thead>\n",
              "    <tr style=\"text-align: right;\">\n",
              "      <th></th>\n",
              "      <th>ABONO EN CUENTA</th>\n",
              "      <th>BANCA CELULAR</th>\n",
              "      <th>VENTANILLA</th>\n",
              "    </tr>\n",
              "  </thead>\n",
              "  <tbody>\n",
              "    <tr>\n",
              "      <th>0</th>\n",
              "      <td>1</td>\n",
              "      <td>0</td>\n",
              "      <td>0</td>\n",
              "    </tr>\n",
              "    <tr>\n",
              "      <th>1</th>\n",
              "      <td>1</td>\n",
              "      <td>0</td>\n",
              "      <td>0</td>\n",
              "    </tr>\n",
              "    <tr>\n",
              "      <th>2</th>\n",
              "      <td>1</td>\n",
              "      <td>0</td>\n",
              "      <td>0</td>\n",
              "    </tr>\n",
              "    <tr>\n",
              "      <th>3</th>\n",
              "      <td>0</td>\n",
              "      <td>1</td>\n",
              "      <td>0</td>\n",
              "    </tr>\n",
              "    <tr>\n",
              "      <th>4</th>\n",
              "      <td>0</td>\n",
              "      <td>0</td>\n",
              "      <td>1</td>\n",
              "    </tr>\n",
              "    <tr>\n",
              "      <th>...</th>\n",
              "      <td>...</td>\n",
              "      <td>...</td>\n",
              "      <td>...</td>\n",
              "    </tr>\n",
              "    <tr>\n",
              "      <th>773286</th>\n",
              "      <td>0</td>\n",
              "      <td>1</td>\n",
              "      <td>0</td>\n",
              "    </tr>\n",
              "    <tr>\n",
              "      <th>773287</th>\n",
              "      <td>0</td>\n",
              "      <td>1</td>\n",
              "      <td>0</td>\n",
              "    </tr>\n",
              "    <tr>\n",
              "      <th>773288</th>\n",
              "      <td>0</td>\n",
              "      <td>1</td>\n",
              "      <td>0</td>\n",
              "    </tr>\n",
              "    <tr>\n",
              "      <th>773289</th>\n",
              "      <td>0</td>\n",
              "      <td>1</td>\n",
              "      <td>0</td>\n",
              "    </tr>\n",
              "    <tr>\n",
              "      <th>773290</th>\n",
              "      <td>0</td>\n",
              "      <td>0</td>\n",
              "      <td>1</td>\n",
              "    </tr>\n",
              "  </tbody>\n",
              "</table>\n",
              "<p>773291 rows × 3 columns</p>\n",
              "</div>"
            ],
            "text/plain": [
              "        ABONO EN CUENTA  BANCA CELULAR  VENTANILLA\n",
              "0                     1              0           0\n",
              "1                     1              0           0\n",
              "2                     1              0           0\n",
              "3                     0              1           0\n",
              "4                     0              0           1\n",
              "...                 ...            ...         ...\n",
              "773286                0              1           0\n",
              "773287                0              1           0\n",
              "773288                0              1           0\n",
              "773289                0              1           0\n",
              "773290                0              0           1\n",
              "\n",
              "[773291 rows x 3 columns]"
            ]
          },
          "metadata": {
            "tags": []
          },
          "execution_count": 144
        }
      ]
    },
    {
      "cell_type": "code",
      "metadata": {
        "id": "phYfq1dDja-3"
      },
      "source": [
        "#Unimos las variables tipo dummy al dataset original\r\n",
        "df=pd.concat([df,MEDIOCOBRO_dummy],axis=1)"
      ],
      "execution_count": null,
      "outputs": []
    },
    {
      "cell_type": "code",
      "metadata": {
        "colab": {
          "base_uri": "https://localhost:8080/",
          "height": 204
        },
        "id": "h97dyL8ijuCZ",
        "outputId": "22c2a1d1-3505-4bbd-c8a0-21f7da58a89b"
      },
      "source": [
        "# Eliminamos columnas METODODX Y SEXO\r\n",
        "df.drop(['MEDIO_COBRO'], axis='columns', inplace=True)\r\n",
        "df.head()"
      ],
      "execution_count": null,
      "outputs": [
        {
          "output_type": "execute_result",
          "data": {
            "text/html": [
              "<div>\n",
              "<style scoped>\n",
              "    .dataframe tbody tr th:only-of-type {\n",
              "        vertical-align: middle;\n",
              "    }\n",
              "\n",
              "    .dataframe tbody tr th {\n",
              "        vertical-align: top;\n",
              "    }\n",
              "\n",
              "    .dataframe thead th {\n",
              "        text-align: right;\n",
              "    }\n",
              "</style>\n",
              "<table border=\"1\" class=\"dataframe\">\n",
              "  <thead>\n",
              "    <tr style=\"text-align: right;\">\n",
              "      <th></th>\n",
              "      <th>DE_DEPARTAMENTO</th>\n",
              "      <th>DE_PROVINCIA</th>\n",
              "      <th>DE_DISTRITO</th>\n",
              "      <th>PERSONAS_HOGAR</th>\n",
              "      <th>BONO_COBRADO</th>\n",
              "      <th>ABONO EN CUENTA</th>\n",
              "      <th>BANCA CELULAR</th>\n",
              "      <th>VENTANILLA</th>\n",
              "    </tr>\n",
              "  </thead>\n",
              "  <tbody>\n",
              "    <tr>\n",
              "      <th>0</th>\n",
              "      <td>0.007287</td>\n",
              "      <td>0.001741</td>\n",
              "      <td>0.000036</td>\n",
              "      <td>2</td>\n",
              "      <td>SI</td>\n",
              "      <td>1</td>\n",
              "      <td>0</td>\n",
              "      <td>0</td>\n",
              "    </tr>\n",
              "    <tr>\n",
              "      <th>1</th>\n",
              "      <td>0.007287</td>\n",
              "      <td>0.001194</td>\n",
              "      <td>0.000052</td>\n",
              "      <td>1</td>\n",
              "      <td>SI</td>\n",
              "      <td>1</td>\n",
              "      <td>0</td>\n",
              "      <td>0</td>\n",
              "    </tr>\n",
              "    <tr>\n",
              "      <th>2</th>\n",
              "      <td>0.029652</td>\n",
              "      <td>0.006352</td>\n",
              "      <td>0.005598</td>\n",
              "      <td>1</td>\n",
              "      <td>SI</td>\n",
              "      <td>1</td>\n",
              "      <td>0</td>\n",
              "      <td>0</td>\n",
              "    </tr>\n",
              "    <tr>\n",
              "      <th>3</th>\n",
              "      <td>0.007287</td>\n",
              "      <td>0.000581</td>\n",
              "      <td>0.000176</td>\n",
              "      <td>2</td>\n",
              "      <td>SI</td>\n",
              "      <td>0</td>\n",
              "      <td>1</td>\n",
              "      <td>0</td>\n",
              "    </tr>\n",
              "    <tr>\n",
              "      <th>4</th>\n",
              "      <td>0.036465</td>\n",
              "      <td>0.000079</td>\n",
              "      <td>0.000049</td>\n",
              "      <td>1</td>\n",
              "      <td>NO</td>\n",
              "      <td>0</td>\n",
              "      <td>0</td>\n",
              "      <td>1</td>\n",
              "    </tr>\n",
              "  </tbody>\n",
              "</table>\n",
              "</div>"
            ],
            "text/plain": [
              "   DE_DEPARTAMENTO  DE_PROVINCIA  ...  BANCA CELULAR  VENTANILLA\n",
              "0         0.007287      0.001741  ...              0           0\n",
              "1         0.007287      0.001194  ...              0           0\n",
              "2         0.029652      0.006352  ...              0           0\n",
              "3         0.007287      0.000581  ...              1           0\n",
              "4         0.036465      0.000079  ...              0           1\n",
              "\n",
              "[5 rows x 8 columns]"
            ]
          },
          "metadata": {
            "tags": []
          },
          "execution_count": 146
        }
      ]
    },
    {
      "cell_type": "code",
      "metadata": {
        "id": "ab2k-fwlj7V5"
      },
      "source": [
        "df.rename(columns ={'ABONO EN CUENTA':'ABONO_EN_CUENTA','BANCA CELULAR':'BANCA_CELULAR'},inplace = True)"
      ],
      "execution_count": null,
      "outputs": []
    },
    {
      "cell_type": "code",
      "metadata": {
        "colab": {
          "base_uri": "https://localhost:8080/",
          "height": 204
        },
        "id": "HnN3_iXGQVa5",
        "outputId": "7a3bc690-ea6c-4989-c72b-a29f1f9e0199"
      },
      "source": [
        "df.head()"
      ],
      "execution_count": null,
      "outputs": [
        {
          "output_type": "execute_result",
          "data": {
            "text/html": [
              "<div>\n",
              "<style scoped>\n",
              "    .dataframe tbody tr th:only-of-type {\n",
              "        vertical-align: middle;\n",
              "    }\n",
              "\n",
              "    .dataframe tbody tr th {\n",
              "        vertical-align: top;\n",
              "    }\n",
              "\n",
              "    .dataframe thead th {\n",
              "        text-align: right;\n",
              "    }\n",
              "</style>\n",
              "<table border=\"1\" class=\"dataframe\">\n",
              "  <thead>\n",
              "    <tr style=\"text-align: right;\">\n",
              "      <th></th>\n",
              "      <th>DE_DEPARTAMENTO</th>\n",
              "      <th>DE_PROVINCIA</th>\n",
              "      <th>DE_DISTRITO</th>\n",
              "      <th>PERSONAS_HOGAR</th>\n",
              "      <th>BONO_COBRADO</th>\n",
              "      <th>ABONO_EN_CUENTA</th>\n",
              "      <th>BANCA_CELULAR</th>\n",
              "      <th>VENTANILLA</th>\n",
              "    </tr>\n",
              "  </thead>\n",
              "  <tbody>\n",
              "    <tr>\n",
              "      <th>0</th>\n",
              "      <td>0.007287</td>\n",
              "      <td>0.001741</td>\n",
              "      <td>0.000036</td>\n",
              "      <td>2</td>\n",
              "      <td>SI</td>\n",
              "      <td>1</td>\n",
              "      <td>0</td>\n",
              "      <td>0</td>\n",
              "    </tr>\n",
              "    <tr>\n",
              "      <th>1</th>\n",
              "      <td>0.007287</td>\n",
              "      <td>0.001194</td>\n",
              "      <td>0.000052</td>\n",
              "      <td>1</td>\n",
              "      <td>SI</td>\n",
              "      <td>1</td>\n",
              "      <td>0</td>\n",
              "      <td>0</td>\n",
              "    </tr>\n",
              "    <tr>\n",
              "      <th>2</th>\n",
              "      <td>0.029652</td>\n",
              "      <td>0.006352</td>\n",
              "      <td>0.005598</td>\n",
              "      <td>1</td>\n",
              "      <td>SI</td>\n",
              "      <td>1</td>\n",
              "      <td>0</td>\n",
              "      <td>0</td>\n",
              "    </tr>\n",
              "    <tr>\n",
              "      <th>3</th>\n",
              "      <td>0.007287</td>\n",
              "      <td>0.000581</td>\n",
              "      <td>0.000176</td>\n",
              "      <td>2</td>\n",
              "      <td>SI</td>\n",
              "      <td>0</td>\n",
              "      <td>1</td>\n",
              "      <td>0</td>\n",
              "    </tr>\n",
              "    <tr>\n",
              "      <th>4</th>\n",
              "      <td>0.036465</td>\n",
              "      <td>0.000079</td>\n",
              "      <td>0.000049</td>\n",
              "      <td>1</td>\n",
              "      <td>NO</td>\n",
              "      <td>0</td>\n",
              "      <td>0</td>\n",
              "      <td>1</td>\n",
              "    </tr>\n",
              "  </tbody>\n",
              "</table>\n",
              "</div>"
            ],
            "text/plain": [
              "   DE_DEPARTAMENTO  DE_PROVINCIA  ...  BANCA_CELULAR  VENTANILLA\n",
              "0         0.007287      0.001741  ...              0           0\n",
              "1         0.007287      0.001194  ...              0           0\n",
              "2         0.029652      0.006352  ...              0           0\n",
              "3         0.007287      0.000581  ...              1           0\n",
              "4         0.036465      0.000079  ...              0           1\n",
              "\n",
              "[5 rows x 8 columns]"
            ]
          },
          "metadata": {
            "tags": []
          },
          "execution_count": 148
        }
      ]
    },
    {
      "cell_type": "code",
      "metadata": {
        "colab": {
          "base_uri": "https://localhost:8080/",
          "height": 204
        },
        "id": "BlnOViEtQYcA",
        "outputId": "0e790643-061d-4a81-f9a0-59fc9ebd4110"
      },
      "source": [
        "df = df.reindex(columns=['DE_DEPARTAMENTO','DE_PROVINCIA','DE_DISTRITO','PERSONAS_HOGAR','ABONO_EN_CUENTA',\r\n",
        "                         'BANCA_CELULAR','VENTANILLA','BONO_COBRADO']\r\n",
        "                )\r\n",
        "df.head()"
      ],
      "execution_count": null,
      "outputs": [
        {
          "output_type": "execute_result",
          "data": {
            "text/html": [
              "<div>\n",
              "<style scoped>\n",
              "    .dataframe tbody tr th:only-of-type {\n",
              "        vertical-align: middle;\n",
              "    }\n",
              "\n",
              "    .dataframe tbody tr th {\n",
              "        vertical-align: top;\n",
              "    }\n",
              "\n",
              "    .dataframe thead th {\n",
              "        text-align: right;\n",
              "    }\n",
              "</style>\n",
              "<table border=\"1\" class=\"dataframe\">\n",
              "  <thead>\n",
              "    <tr style=\"text-align: right;\">\n",
              "      <th></th>\n",
              "      <th>DE_DEPARTAMENTO</th>\n",
              "      <th>DE_PROVINCIA</th>\n",
              "      <th>DE_DISTRITO</th>\n",
              "      <th>PERSONAS_HOGAR</th>\n",
              "      <th>ABONO_EN_CUENTA</th>\n",
              "      <th>BANCA_CELULAR</th>\n",
              "      <th>VENTANILLA</th>\n",
              "      <th>BONO_COBRADO</th>\n",
              "    </tr>\n",
              "  </thead>\n",
              "  <tbody>\n",
              "    <tr>\n",
              "      <th>0</th>\n",
              "      <td>0.007287</td>\n",
              "      <td>0.001741</td>\n",
              "      <td>0.000036</td>\n",
              "      <td>2</td>\n",
              "      <td>1</td>\n",
              "      <td>0</td>\n",
              "      <td>0</td>\n",
              "      <td>SI</td>\n",
              "    </tr>\n",
              "    <tr>\n",
              "      <th>1</th>\n",
              "      <td>0.007287</td>\n",
              "      <td>0.001194</td>\n",
              "      <td>0.000052</td>\n",
              "      <td>1</td>\n",
              "      <td>1</td>\n",
              "      <td>0</td>\n",
              "      <td>0</td>\n",
              "      <td>SI</td>\n",
              "    </tr>\n",
              "    <tr>\n",
              "      <th>2</th>\n",
              "      <td>0.029652</td>\n",
              "      <td>0.006352</td>\n",
              "      <td>0.005598</td>\n",
              "      <td>1</td>\n",
              "      <td>1</td>\n",
              "      <td>0</td>\n",
              "      <td>0</td>\n",
              "      <td>SI</td>\n",
              "    </tr>\n",
              "    <tr>\n",
              "      <th>3</th>\n",
              "      <td>0.007287</td>\n",
              "      <td>0.000581</td>\n",
              "      <td>0.000176</td>\n",
              "      <td>2</td>\n",
              "      <td>0</td>\n",
              "      <td>1</td>\n",
              "      <td>0</td>\n",
              "      <td>SI</td>\n",
              "    </tr>\n",
              "    <tr>\n",
              "      <th>4</th>\n",
              "      <td>0.036465</td>\n",
              "      <td>0.000079</td>\n",
              "      <td>0.000049</td>\n",
              "      <td>1</td>\n",
              "      <td>0</td>\n",
              "      <td>0</td>\n",
              "      <td>1</td>\n",
              "      <td>NO</td>\n",
              "    </tr>\n",
              "  </tbody>\n",
              "</table>\n",
              "</div>"
            ],
            "text/plain": [
              "   DE_DEPARTAMENTO  DE_PROVINCIA  ...  VENTANILLA  BONO_COBRADO\n",
              "0         0.007287      0.001741  ...           0            SI\n",
              "1         0.007287      0.001194  ...           0            SI\n",
              "2         0.029652      0.006352  ...           0            SI\n",
              "3         0.007287      0.000581  ...           0            SI\n",
              "4         0.036465      0.000079  ...           1            NO\n",
              "\n",
              "[5 rows x 8 columns]"
            ]
          },
          "metadata": {
            "tags": []
          },
          "execution_count": 149
        }
      ]
    },
    {
      "cell_type": "code",
      "metadata": {
        "id": "Pq3WyrQnRBAt"
      },
      "source": [
        "df.to_csv(\"./bono_Independiente_trabajaperu_procesado.csv\",\r\n",
        "            index = False)"
      ],
      "execution_count": null,
      "outputs": []
    },
    {
      "cell_type": "code",
      "metadata": {
        "colab": {
          "base_uri": "https://localhost:8080/"
        },
        "id": "C1GxmvquXXEM",
        "outputId": "95805351-bace-4a2f-e00b-08ac9ca56753"
      },
      "source": [
        "!ls"
      ],
      "execution_count": null,
      "outputs": [
        {
          "output_type": "stream",
          "text": [
            "BonoIndependiente-COVID19.ipynb\n",
            "bono_Independiente_trabajaperu.csv\n",
            "bono_Independiente_trabajaperu_procesado.csv\n",
            "bono_Independiente_trabajaperu_procesado.xlsx\n"
          ],
          "name": "stdout"
        }
      ]
    }
  ]
}